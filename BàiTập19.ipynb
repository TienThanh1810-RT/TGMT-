{
 "cells": [
  {
   "cell_type": "code",
   "execution_count": null,
   "id": "576062b8-9df1-42ea-a442-5b02df1c1869",
   "metadata": {},
   "outputs": [],
   "source": [
    "def display(title, img):\n",
    "    cv2.imshow(title, img)\n",
    "    # Chờ một khoảng thời gian\n",
    "    cv2.waitKey(0)\n",
    "    # Đóng window\n",
    "    cv2.destroyWindow(title)"
   ]
  },
  {
   "cell_type": "code",
   "execution_count": null,
   "id": "d87ecb5e-0609-4f11-8447-96ce91fd3a0b",
   "metadata": {},
   "outputs": [],
   "source": [
    "# Import thư viện\n",
    "import cv2"
   ]
  },
  {
   "cell_type": "code",
   "execution_count": 10,
   "id": "21423226-98e3-4230-a018-2efceb03c556",
   "metadata": {},
   "outputs": [
    {
     "name": "stdout",
     "output_type": "stream",
     "text": [
      "[[[185 193 192]\n",
      "  [187 195 194]\n",
      "  [187 195 194]\n",
      "  ...\n",
      "  [ 98 101  99]\n",
      "  [ 91  94  92]\n",
      "  [ 95  98  96]]\n",
      "\n",
      " [[186 194 193]\n",
      "  [186 194 193]\n",
      "  [186 194 193]\n",
      "  ...\n",
      "  [ 84  87  85]\n",
      "  [106 109 107]\n",
      "  [101 104 102]]\n",
      "\n",
      " [[190 196 195]\n",
      "  [188 194 193]\n",
      "  [186 194 193]\n",
      "  ...\n",
      "  [ 92  93  91]\n",
      "  [100 101  99]\n",
      "  [ 94  95  93]]\n",
      "\n",
      " ...\n",
      "\n",
      " [[ 57  53  78]\n",
      "  [ 56  53  78]\n",
      "  [ 58  54  79]\n",
      "  ...\n",
      "  [208 205 200]\n",
      "  [207 204 199]\n",
      "  [206 203 198]]\n",
      "\n",
      " [[ 56  54  76]\n",
      "  [ 54  55  76]\n",
      "  [ 56  54  76]\n",
      "  ...\n",
      "  [211 209 201]\n",
      "  [209 207 199]\n",
      "  [209 207 199]]\n",
      "\n",
      " [[ 54  55  76]\n",
      "  [ 54  55  76]\n",
      "  [ 54  55  76]\n",
      "  ...\n",
      "  [214 212 204]\n",
      "  [212 210 202]\n",
      "  [212 210 202]]]\n"
     ]
    }
   ],
   "source": [
    "# Đọc một ảnh (nhan TAB de nhin autocomplete)\n",
    "path= 'E:/Data/image_500.jpg'\n",
    "img = cv2.imread(path)\n",
    "# In thông tin của ảnh\n",
    "print(img)"
   ]
  },
  {
   "cell_type": "code",
   "execution_count": 11,
   "id": "5aced519-20c8-4985-95c3-5badced84e24",
   "metadata": {},
   "outputs": [
    {
     "name": "stdout",
     "output_type": "stream",
     "text": [
      "(480, 640, 3)\n",
      "480\n",
      "640\n",
      "3\n"
     ]
    }
   ],
   "source": [
    "# Lấy kích thước\n",
    "print(img.shape)\n",
    "x, y, z = img.shape\n",
    "print(x)\n",
    "print(y)\n",
    "print(z)"
   ]
  },
  {
   "cell_type": "code",
   "execution_count": 12,
   "id": "b8818c09-5567-405d-a078-1dd17fddf480",
   "metadata": {},
   "outputs": [],
   "source": [
    "# Hiển thị ảnh\n",
    "cv2.imshow('Window', img)\n",
    "# Chờ một khoảng thời gian\n",
    "cv2.waitKey(10000)\n",
    "# Đóng window\n",
    "cv2.destroyWindow('Window')"
   ]
  },
  {
   "cell_type": "code",
   "execution_count": null,
   "id": "ab7d01bb-f1ee-4c9f-84be-b230406505c7",
   "metadata": {},
   "outputs": [],
   "source": [
    "# Tách màu\n",
    "b, g, r = cv2.split(img)\n",
    "cv2.imshow('Window', img)\n",
    "cv2.imshow('Red', r)\n",
    "cv2.imshow('Green', g)\n",
    "cv2.imshow('Blue', b)\n",
    "\n",
    "# Chờ một khoảng thời gian\n",
    "cv2.waitKey(0)\n",
    "# Đóng window\n",
    "cv2.destroyAllWindows()"
   ]
  },
  {
   "cell_type": "code",
   "execution_count": null,
   "id": "2ac33ccb-ed40-4f4d-8526-dbe05caaa159",
   "metadata": {},
   "outputs": [],
   "source": [
    "gray_img = cv2.cvtColor(img, cv2.COLOR_BGR2GRAY)\n",
    "img_2 = cv2.cvtColor(img, cv2.COLOR_BGR2RGB)\n",
    "cv2.imshow('Window', img)\n",
    "cv2.imshow('gray_img', gray_img)\n",
    "cv2.imshow('img_2', img_2)\n",
    "# Chờ một khoảng thời gian\n",
    "cv2.waitKey(0)\n",
    "# Đóng window\n",
    "cv2.destroyAllWindows()"
   ]
  },
  {
   "cell_type": "code",
   "execution_count": null,
   "id": "261100c0-46d5-4864-a984-21812c25d7f2",
   "metadata": {},
   "outputs": [],
   "source": [
    "# Thay đổi thông số của điểm ảnh\n",
    "height, width, z = img.shape\n",
    "quater_h = height/2\n",
    "quater_w = width/2\n",
    "\n",
    "# geen color\n",
    "green_color = (0,255,0)\n",
    "\n",
    "# copy ảnh\n",
    "img2 = img.copy()\n",
    "\n",
    "# thay đổi màu của góc 1/4 bên trái trên\n",
    "\n",
    "for y in range(int(quater_h)):\n",
    "    for x in range(int(quater_w)):\n",
    "        img2[y, x] = green_color\n",
    "# Hiển thị\n",
    "display('Window', img)\n",
    "display('Window-2', img2)"
   ]
  },
  {
   "cell_type": "code",
   "execution_count": null,
   "id": "3ff3a504-1fc3-4fe3-89ac-6484bd228614",
   "metadata": {},
   "outputs": [],
   "source": []
  }
 ],
 "metadata": {
  "kernelspec": {
   "display_name": "Python 3 (ipykernel)",
   "language": "python",
   "name": "python3"
  },
  "language_info": {
   "codemirror_mode": {
    "name": "ipython",
    "version": 3
   },
   "file_extension": ".py",
   "mimetype": "text/x-python",
   "name": "python",
   "nbconvert_exporter": "python",
   "pygments_lexer": "ipython3",
   "version": "3.12.4"
  }
 },
 "nbformat": 4,
 "nbformat_minor": 5
}
